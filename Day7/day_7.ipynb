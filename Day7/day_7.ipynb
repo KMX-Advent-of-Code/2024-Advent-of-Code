{
 "cells": [
  {
   "cell_type": "code",
   "execution_count": 1,
   "id": "eff8f942-7218-41f6-be9a-a6437284de90",
   "metadata": {},
   "outputs": [],
   "source": [
    "import re\n",
    "import numpy as np\n",
    "from tqdm.auto import tqdm\n",
    "import pandas as pd"
   ]
  },
  {
   "cell_type": "code",
   "execution_count": 2,
   "id": "5d935600-88b5-4a36-a8e5-d59f30100750",
   "metadata": {},
   "outputs": [],
   "source": [
    "def get_data(string):\n",
    "    l = []\n",
    "    for line in string.split('\\n'):\n",
    "        tmp = [int(x.strip(':').strip(' ')) for x in line.split(' ') if x != '']\n",
    "        l.append(tmp)\n",
    "    return l"
   ]
  },
  {
   "cell_type": "code",
   "execution_count": 3,
   "id": "03ba6031-95f7-43ec-962c-b8e60179d527",
   "metadata": {},
   "outputs": [],
   "source": [
    "def get_permutations(n):\n",
    "    if n == 1:\n",
    "        return ['+','*']\n",
    "    perms = []\n",
    "    for p in get_permutations(n-1):\n",
    "        perms.append(p+'+')\n",
    "        perms.append(p+'*')\n",
    "    return perms"
   ]
  },
  {
   "cell_type": "code",
   "execution_count": 4,
   "id": "fd6c5948-e8c7-4552-b210-ae29c1206a62",
   "metadata": {},
   "outputs": [],
   "source": [
    "def get_combs(ans, nums):\n",
    "    num_combs = 0\n",
    "    perm = perm_dict[len(nums)-1]\n",
    "    for p in perm:\n",
    "        agg = nums[0]\n",
    "        for i in range(len(nums)-1):\n",
    "            if p[i] == '+':\n",
    "                agg += nums[i+1]\n",
    "            elif p[i] == '*':\n",
    "                agg *= nums[i+1]\n",
    "        if agg == ans:\n",
    "            return 1\n",
    "            num_combs += 1\n",
    "    return num_combs"
   ]
  },
  {
   "cell_type": "code",
   "execution_count": 9,
   "id": "35ce2d4d-0654-46d4-8d47-a477cea84f45",
   "metadata": {},
   "outputs": [],
   "source": [
    "d = get_data(s)"
   ]
  },
  {
   "cell_type": "code",
   "execution_count": 10,
   "id": "cc436294-41c4-4eb7-a234-975995ef27fe",
   "metadata": {},
   "outputs": [],
   "source": [
    "perm_dict = {p: get_permutations(p) for p in range(1, pd.DataFrame(d).shape[1])}   "
   ]
  },
  {
   "cell_type": "code",
   "execution_count": 11,
   "id": "3f23774f-87c1-485c-8ab8-e478a7b77b29",
   "metadata": {},
   "outputs": [
    {
     "data": {
      "application/vnd.jupyter.widget-view+json": {
       "model_id": "aa38dfb56673457eaa70c28a40a88888",
       "version_major": 2,
       "version_minor": 0
      },
      "text/plain": [
       "  0%|          | 0/850 [00:00<?, ?it/s]"
      ]
     },
     "metadata": {},
     "output_type": "display_data"
    },
    {
     "data": {
      "text/plain": [
       "2664460013123"
      ]
     },
     "execution_count": 11,
     "metadata": {},
     "output_type": "execute_result"
    }
   ],
   "source": [
    "total = 0\n",
    "for i in tqdm(range(len(d))):\n",
    "    ans = d[i][0]\n",
    "    nums = d[i][1:]\n",
    "    if get_combs(ans, nums) > 0:\n",
    "        total += ans\n",
    "total"
   ]
  },
  {
   "cell_type": "code",
   "execution_count": null,
   "id": "f7bde687-fe66-429c-bb20-128ee0b2fa63",
   "metadata": {},
   "outputs": [],
   "source": []
  },
  {
   "cell_type": "markdown",
   "id": "b0f40d95-830b-4e22-862f-b3fc9912327c",
   "metadata": {},
   "source": [
    "### Part 2"
   ]
  },
  {
   "cell_type": "code",
   "execution_count": 5,
   "id": "5d8097a6-e888-4f67-be29-c8d24f1e7e6c",
   "metadata": {},
   "outputs": [],
   "source": [
    "def get_permutations2(n):\n",
    "    if n == 1:\n",
    "        return ['+','*','|']\n",
    "    perms = []\n",
    "    for p in get_permutations2(n-1):\n",
    "        perms.append(p+'+')\n",
    "        perms.append(p+'*')\n",
    "        perms.append(p+'|')\n",
    "    return perms"
   ]
  },
  {
   "cell_type": "code",
   "execution_count": 12,
   "id": "f0a0dcc8-3fe1-41ab-94b9-d77cf2b2e875",
   "metadata": {},
   "outputs": [],
   "source": [
    "perm_dict2 = {p: get_permutations2(p) for p in range(1, pd.DataFrame(d).shape[1])}   "
   ]
  },
  {
   "cell_type": "code",
   "execution_count": 6,
   "id": "40f9c8d1-10ab-42e1-9d47-186ba741e341",
   "metadata": {},
   "outputs": [],
   "source": [
    "def get_combs2(ans, nums):\n",
    "    num_combs = 0\n",
    "    perm = perm_dict2[len(nums)-1]\n",
    "    for p in perm:\n",
    "        agg = nums[0]\n",
    "        for i in range(len(nums)-1):\n",
    "            if p[i] == '+':\n",
    "                agg += nums[i+1]\n",
    "            elif p[i] == '*':\n",
    "                agg *= nums[i+1]\n",
    "            elif p[i] == '|':\n",
    "                agg = int(str(agg) + str(nums[i+1]))\n",
    "        if agg == ans:\n",
    "            return 1\n",
    "            num_combs += 1\n",
    "    return num_combs"
   ]
  },
  {
   "cell_type": "code",
   "execution_count": 13,
   "id": "94d9867d-4e58-48ff-abf0-032774fadf19",
   "metadata": {},
   "outputs": [],
   "source": [
    "d = get_data(s)"
   ]
  },
  {
   "cell_type": "code",
   "execution_count": 14,
   "id": "db234d35-ef57-483c-8a68-0c5f8cd8c4fd",
   "metadata": {},
   "outputs": [
    {
     "data": {
      "application/vnd.jupyter.widget-view+json": {
       "model_id": "c13c4e635a8642ebb993b7011397482c",
       "version_major": 2,
       "version_minor": 0
      },
      "text/plain": [
       "  0%|          | 0/850 [00:00<?, ?it/s]"
      ]
     },
     "metadata": {},
     "output_type": "display_data"
    },
    {
     "data": {
      "text/plain": [
       "426214131924213"
      ]
     },
     "execution_count": 14,
     "metadata": {},
     "output_type": "execute_result"
    }
   ],
   "source": [
    "total = 0\n",
    "for i in tqdm(range(len(d))):\n",
    "    ans = d[i][0]\n",
    "    nums = d[i][1:]\n",
    "    if get_combs2(ans, nums) > 0:\n",
    "        total += ans\n",
    "total"
   ]
  }
 ],
 "metadata": {
  "kernelspec": {
   "display_name": "Python 3 (ipykernel)",
   "language": "python",
   "name": "python3"
  },
  "language_info": {
   "codemirror_mode": {
    "name": "ipython",
    "version": 3
   },
   "file_extension": ".py",
   "mimetype": "text/x-python",
   "name": "python",
   "nbconvert_exporter": "python",
   "pygments_lexer": "ipython3",
   "version": "3.13.1"
  }
 },
 "nbformat": 4,
 "nbformat_minor": 5
}
